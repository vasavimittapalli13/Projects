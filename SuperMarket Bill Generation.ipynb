{
 "cells": [
  {
   "cell_type": "code",
   "execution_count": 109,
   "id": "727bd151-8627-4768-860e-4f98e53141a9",
   "metadata": {},
   "outputs": [
    {
     "name": "stdin",
     "output_type": "stream",
     "text": [
      "Enter your name? vasu\n",
      "For list of items enter 1 1\n"
     ]
    },
    {
     "name": "stdout",
     "output_type": "stream",
     "text": [
      "\n",
      "\n",
      "Rice  Rs 20/kg\n",
      "Sugar Rs 30/kg\n",
      "Salt Rs 20/kg\n",
      "oil Rs 80/liter\n",
      "paneer Rs 110/kg\n",
      "Maggi Rs 50/kg\n",
      "\n",
      "\n"
     ]
    },
    {
     "name": "stdin",
     "output_type": "stream",
     "text": [
      "if you want to buy  press 1 and to quit press 2 1\n",
      "Enter item to buy: oil\n",
      "Enter quantity how much you want: ? 2\n",
      "if you want to buy  press 1 and to quit press 2 1\n",
      "Enter item to buy: sugar\n",
      "Enter quantity how much you want: ? 1\n",
      "if you want to buy  press 1 and to quit press 2 1\n",
      "Enter item to buy: salt\n",
      "Enter quantity how much you want: ? 3\n",
      "if you want to buy  press 1 and to quit press 2 2\n",
      "can i bill the final amount yes or no? yes\n"
     ]
    },
    {
     "name": "stdout",
     "output_type": "stream",
     "text": [
      "------------------------------ SUPERMARKET ------------------------------\n",
      "-------------------------------------------------------------------------\n",
      "Name: vasu                                Date: 2025-01-29 12:54:33.993520\n",
      "-------------------------------------------------------------------------\n",
      "-------------------------------------------------------------------------\n",
      "Sno                 items                 quantity                 price                \n",
      "0                    oil                    2                        160\n",
      "1                    sugar                    1                        30\n",
      "2                    salt                    3                        60\n",
      "-------------------------------------------------------------------------\n",
      "Total:                                                              250\n",
      "-------------------------------------------------------------------------\n"
     ]
    }
   ],
   "source": [
    "from datetime import datetime\n",
    "name=input('Enter your name?')\n",
    "\n",
    "lists='''\n",
    "\n",
    "Rice  Rs 20/kg\n",
    "Sugar Rs 30/kg\n",
    "Salt Rs 20/kg\n",
    "oil Rs 80/liter\n",
    "paneer Rs 110/kg\n",
    "Maggi Rs 50/kg\n",
    "\n",
    "'''\n",
    "\n",
    "itemslist=[]\n",
    "totalprice=0\n",
    "ilist=[]\n",
    "qlist=[]\n",
    "plist=[]\n",
    "option=int(input('For list of items enter 1'))\n",
    "if option==1:\n",
    "    print(lists)\n",
    "for i in range(len(items)):\n",
    "    choose=int(input('if you want to buy  press 1 and to quit press 2'))\n",
    "    if choose==2:\n",
    "        break\n",
    "    if choose==1:\n",
    "        item=input('Enter item to buy:')\n",
    "        quantity=int(input('Enter quantity how much you want: ?'))\n",
    "        if item in items.keys():\n",
    "            price=quantity * (items[item])\n",
    "            itemslist.append((item,quantity,price))\n",
    "            #print(itemslist)\n",
    "            totalprice+=price\n",
    "            #print(totalprice)\n",
    "            ilist.append(item)\n",
    "            qlist.append(quantity)\n",
    "            plist.append(price)\n",
    "        else:\n",
    "            print('Sorry you entered item is not available')\n",
    "\n",
    "#print(itemslist)\n",
    "#print(totalprice)\n",
    "#print(ilist)\n",
    "#print(plist)\n",
    "#print(qlist)\n",
    "\n",
    "inp=input('can i bill the final amount yes or no?')\n",
    "if inp=='yes':\n",
    "    pass\n",
    "    if totalprice!=0:\n",
    "        print('-'*30,'SUPERMARKET','-'*30)\n",
    "        print('-'*73)\n",
    "        print('Name:',name,' '*30,'Date:',datetime.now())\n",
    "        print('-'*73)\n",
    "        print('-'*73)\n",
    "        print('Sno',' '*15,'items',' '*15,'quantity',' '*15,'price',' '*15)\n",
    "        for i in range(len(itemslist)):\n",
    "            print(i,' '*18, ilist[i],' '*18,qlist[i],' '*22,plist[i])\n",
    "        print('-'*73)\n",
    "        print('Total:',' '*60,totalprice)\n",
    "        print('-'*73)"
   ]
  },
  {
   "cell_type": "code",
   "execution_count": null,
   "id": "265a2896-baa3-4b11-9ba4-ea731eb93928",
   "metadata": {},
   "outputs": [],
   "source": []
  }
 ],
 "metadata": {
  "kernelspec": {
   "display_name": "Python [conda env:base] *",
   "language": "python",
   "name": "conda-base-py"
  },
  "language_info": {
   "codemirror_mode": {
    "name": "ipython",
    "version": 3
   },
   "file_extension": ".py",
   "mimetype": "text/x-python",
   "name": "python",
   "nbconvert_exporter": "python",
   "pygments_lexer": "ipython3",
   "version": "3.12.7"
  }
 },
 "nbformat": 4,
 "nbformat_minor": 5
}
