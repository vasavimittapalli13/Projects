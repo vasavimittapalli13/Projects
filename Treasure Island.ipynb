{
 "cells": [
  {
   "cell_type": "code",
   "execution_count": 1,
   "id": "12d674fd",
   "metadata": {},
   "outputs": [
    {
     "name": "stdout",
     "output_type": "stream",
     "text": [
      "Welcome to Treasure Island.\n",
      "Your mission is to find the treasure.\n",
      "You're at a crossroad, where do you want to go? Type \"left\" or \"right\".\n",
      "left\n",
      "You've come to a lake. There is an island in the middle of the lake. Type \"wait\" to wait for a boat. Type \"swim\" to swim across.\n",
      "wait\n",
      "You arrive at the island unharmed. There is house with 3 doors. One red, one yellow and one blue. Which colour do you choose?\n",
      "red\n",
      "It's a room full of fire. Game Over\n"
     ]
    }
   ],
   "source": [
    "print(\"Welcome to Treasure Island.\")\n",
    "print(\"Your mission is to find the treasure.\")\n",
    "choice1 = input('You\\'re at a crossroad, where do you want to go? '\n",
    "                'Type \"left\" or \"right\".\\n').lower()\n",
    "\n",
    "if choice1 == \"left\":\n",
    "    choice2 = input('You\\'ve come to a lake. '\n",
    "                    'There is an island in the middle of the lake. '\n",
    "                    'Type \"wait\" to wait for a boat. '\n",
    "                    'Type \"swim\" to swim across.\\n').lower()\n",
    "    if choice2 == \"wait\":\n",
    "        choice3 = input(\"You arrive at the island unharmed. \"\n",
    "                        \"There is house with 3 doors. One red, \"\n",
    "                        \"one yellow and one blue. \"\n",
    "                        \"Which colour do you choose?\\n\").lower()\n",
    "        if choice3 == \"red\":\n",
    "            print(\"It's a room full of fire. Game Over\")\n",
    "        elif choice3 == \"yellow\":\n",
    "            print(\"You found the treasure. You Win!\")\n",
    "        elif choice3 == \"blue\":\n",
    "            print(\"You enter a room of beasts. Game Over.\")\n",
    "        else:\n",
    "            print(\"You chose a door that doesn't exist. Game Over.\")\n",
    "    else:\n",
    "        print(\"You got attacked by an angry trout. Game Over.\")\n",
    "\n",
    "else:\n",
    "    print(\"You fell in to a hole. Game Over.\")"
   ]
  },
  {
   "cell_type": "code",
   "execution_count": null,
   "id": "71fe57d7",
   "metadata": {},
   "outputs": [],
   "source": []
  }
 ],
 "metadata": {
  "kernelspec": {
   "display_name": "Python 3 (ipykernel)",
   "language": "python",
   "name": "python3"
  },
  "language_info": {
   "codemirror_mode": {
    "name": "ipython",
    "version": 3
   },
   "file_extension": ".py",
   "mimetype": "text/x-python",
   "name": "python",
   "nbconvert_exporter": "python",
   "pygments_lexer": "ipython3",
   "version": "3.11.5"
  }
 },
 "nbformat": 4,
 "nbformat_minor": 5
}
