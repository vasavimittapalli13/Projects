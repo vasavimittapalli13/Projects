{
 "cells": [
  {
   "cell_type": "markdown",
   "id": "d9c90d21",
   "metadata": {},
   "source": [
    "#### Expense Tracker:\n",
    "Develop a expense tracker where users can input expenses,total spending and categorize their expenses.Use pandas for data manipulation and file handling to save the data"
   ]
  },
  {
   "cell_type": "code",
   "execution_count": 9,
   "id": "568902da",
   "metadata": {},
   "outputs": [
    {
     "name": "stdout",
     "output_type": "stream",
     "text": [
      "Expense Tracker\n",
      "1. Add Expenses\n",
      "2. View Expenses\n",
      "3. Total Spending\n",
      "4. Save and Quit\n",
      "Choose an Option: 1\n",
      "Enter number of expenses to add: 3\n",
      "Enter a category: rent\n",
      "Enter amount: 6000\n",
      "{'rent': 6000.0}\n",
      "Enter a category: electricity\n",
      "Enter amount: 900\n",
      "{'rent': 6000.0, 'electricity': 900.0}\n",
      "Enter a category: movie\n",
      "Enter amount: 500\n",
      "{'rent': 6000.0, 'electricity': 900.0, 'movie': 500.0}\n",
      "Expense Tracker\n",
      "1. Add Expenses\n",
      "2. View Expenses\n",
      "3. Total Spending\n",
      "4. Save and Quit\n",
      "Choose an Option: 2\n",
      "      category    cost\n",
      "0         rent  6000.0\n",
      "1  electricity   900.0\n",
      "2        movie   500.0\n",
      "Expense Tracker\n",
      "1. Add Expenses\n",
      "2. View Expenses\n",
      "3. Total Spending\n",
      "4. Save and Quit\n",
      "Choose an Option: 3\n",
      "7400.0\n",
      "Expense Tracker\n",
      "1. Add Expenses\n",
      "2. View Expenses\n",
      "3. Total Spending\n",
      "4. Save and Quit\n",
      "Choose an Option: 4\n",
      "Expenses saved successfully.\n"
     ]
    }
   ],
   "source": [
    "import pandas as pd\n",
    "import numpy as np\n",
    "import os\n",
    "\n",
    "def load_expenses(filename=\"expenses.csv\"):\n",
    "    if os.path.exists(filename):\n",
    "        return pd.read_csv(filename)\n",
    "    else:\n",
    "        return pd.DataFrame(d.items(),columns=['category','cost'])\n",
    "\n",
    "\n",
    "def save_expenses(df, filename=\"expenses.csv\"):\n",
    "    df.to_csv(filename, index=False)\n",
    "    print(\"Expenses saved successfully.\")\n",
    "\n",
    "def ExpenseTracker():\n",
    "    while True:\n",
    "        print('Expense Tracker')\n",
    "        print('1. Add Expenses')\n",
    "        print('2. View Expenses')\n",
    "        print('3. Total Spending')\n",
    "        print('4. Save and Quit')\n",
    "        \n",
    "        try:\n",
    "            choice=int(input('Choose an Option: '))\n",
    "        except ValueError:\n",
    "            print(\"Invalid input. Please enter a number between 1 and 4.\")\n",
    "            continue\n",
    "            \n",
    "        if choice==1:\n",
    "            d={}\n",
    "            n=int(input('Enter number of expenses to add: '))\n",
    "\n",
    "            for i in range(n):\n",
    "                category=input('Enter a category: ')\n",
    "                cost=float(input('Enter amount: '))\n",
    "                d[category]=cost\n",
    "                print(d)\n",
    "        elif choice==2:\n",
    "            df=pd.DataFrame(d.items(),columns=['category','cost'])\n",
    "            print(df)\n",
    "        elif choice==3:\n",
    "            total= df['cost'].sum()\n",
    "            print(total)\n",
    "        elif choice==4:\n",
    "            save_expenses(df)\n",
    "            break\n",
    "        else:\n",
    "            print('Invalid choice and Try again')\n",
    "            \n",
    "ExpenseTracker()  "
   ]
  },
  {
   "cell_type": "code",
   "execution_count": null,
   "id": "1013b203",
   "metadata": {},
   "outputs": [],
   "source": []
  }
 ],
 "metadata": {
  "kernelspec": {
   "display_name": "Python 3 (ipykernel)",
   "language": "python",
   "name": "python3"
  },
  "language_info": {
   "codemirror_mode": {
    "name": "ipython",
    "version": 3
   },
   "file_extension": ".py",
   "mimetype": "text/x-python",
   "name": "python",
   "nbconvert_exporter": "python",
   "pygments_lexer": "ipython3",
   "version": "3.11.5"
  }
 },
 "nbformat": 4,
 "nbformat_minor": 5
}
