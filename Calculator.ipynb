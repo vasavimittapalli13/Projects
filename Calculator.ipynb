{
 "cells": [
  {
   "cell_type": "code",
   "execution_count": 5,
   "id": "b8256c2b",
   "metadata": {},
   "outputs": [
    {
     "name": "stdout",
     "output_type": "stream",
     "text": [
      "Welcome to the Calculator App!\n",
      "Available operations:\n",
      "1. Addition (+)\n",
      "2. Subtraction (-)\n",
      "3. Multiplication (*)\n",
      "4. Division (/)\n",
      "5. Power (^)\n",
      "6. Square Root (√)\n",
      "7. Quit\n",
      "Enter the operation to perform (add,sub,mul,div,power,squareroot,quit)add\n",
      "ds\n",
      "Input Error: could not convert string to float: 'ds'\n",
      "Enter the operation to perform (add,sub,mul,div,power,squareroot,quit)div\n",
      "2\n",
      "0\n",
      "Math Error: Cannot divide by zero\n",
      "Enter the operation to perform (add,sub,mul,div,power,squareroot,quit)quit\n",
      "Exiting the Calculator\n"
     ]
    }
   ],
   "source": [
    "import math\n",
    "def Calculator():\n",
    "    print(\"Welcome to the Calculator App!\")\n",
    "    print(\"Available operations:\")\n",
    "    print(\"1. Addition (+)\")\n",
    "    print(\"2. Subtraction (-)\")\n",
    "    print(\"3. Multiplication (*)\")\n",
    "    print(\"4. Division (/)\")\n",
    "    print(\"5. Power (^)\")\n",
    "    print(\"6. Square Root (√)\")\n",
    "    print(\"7. Quit\")\n",
    "    \n",
    "    while True:\n",
    "        try:\n",
    "            operation=input('Enter the operation to perform (add,sub,mul,div,power,squareroot,quit)').strip().lower()\n",
    "            if operation=='quit':\n",
    "                print('Exiting the Calculator')\n",
    "                break\n",
    "            if operation not in ['add','sub','mul','div','power','squareroot']:\n",
    "                raise ValueError('Invalid Operation')\n",
    "            if operation=='squareroot':\n",
    "                num=float(input())\n",
    "                if num<0:\n",
    "                    raise ValueError('Enter Positive number')\n",
    "                print('Square root :', math.sqrt(num))\n",
    "            else:\n",
    "                num1=float(input())\n",
    "                num2=float(input())\n",
    "                if operation=='add':\n",
    "                    print('Addition :',num1+num2)\n",
    "                elif operation=='sub':\n",
    "                    print('Subtraction ',num1-num2)\n",
    "                elif operation=='mul':\n",
    "                    print('Multiplication :',num1*num2)\n",
    "                elif operation=='div':\n",
    "                    if num2==0:\n",
    "                        raise ZeroDivisionError('Cannot divide by zero')\n",
    "                    else:\n",
    "                        print('Division :',num1/num2)\n",
    "                elif operation=='power':\n",
    "                    print('Power :',num1**num2)\n",
    "                else:\n",
    "                    print('Invalid Operations')\n",
    "                    \n",
    "        except ValueError as ve:\n",
    "            print(\"Input Error:\", ve)\n",
    "        except ZeroDivisionError as zde:\n",
    "            print(\"Math Error:\", zde)\n",
    "        except Exception as e:\n",
    "            print(\"Unexpected Error:\", e)\n",
    "Calculator()"
   ]
  },
  {
   "cell_type": "code",
   "execution_count": null,
   "id": "924b9f96",
   "metadata": {},
   "outputs": [],
   "source": []
  },
  {
   "cell_type": "code",
   "execution_count": null,
   "id": "cd825c03",
   "metadata": {},
   "outputs": [],
   "source": []
  },
  {
   "cell_type": "code",
   "execution_count": null,
   "id": "a6fad8a7",
   "metadata": {},
   "outputs": [],
   "source": []
  }
 ],
 "metadata": {
  "kernelspec": {
   "display_name": "Python 3 (ipykernel)",
   "language": "python",
   "name": "python3"
  },
  "language_info": {
   "codemirror_mode": {
    "name": "ipython",
    "version": 3
   },
   "file_extension": ".py",
   "mimetype": "text/x-python",
   "name": "python",
   "nbconvert_exporter": "python",
   "pygments_lexer": "ipython3",
   "version": "3.11.5"
  }
 },
 "nbformat": 4,
 "nbformat_minor": 5
}
